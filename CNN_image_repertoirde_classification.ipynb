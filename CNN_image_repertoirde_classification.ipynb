{
 "cells": [
  {
   "cell_type": "markdown",
   "metadata": {},
   "source": [
    "# CNN: call classification based on sonogram images\n",
    "\n",
    "This program test the ability of a convolutional neural network CNN to \n",
    "\n",
    "3) classify sonogram images from mouse lemur vocalizations (Multiclass classification problem)\n"
   ]
  },
  {
   "cell_type": "markdown",
   "metadata": {},
   "source": [
    "### Created by Daniel Romero Mujalli, Sep2020\n",
    "\n",
    "email: danielrm84@gmail.com\n",
    "\n",
    "last update: 21_Jan_2021"
   ]
  },
  {
   "cell_type": "markdown",
   "metadata": {},
   "source": [
    "# Step 3: CNN image classification"
   ]
  },
  {
   "cell_type": "markdown",
   "metadata": {},
   "source": [
    "## Importing libraries"
   ]
  },
  {
   "cell_type": "code",
   "execution_count": 212,
   "metadata": {},
   "outputs": [],
   "source": [
    "import numpy as np # arrays and vectors\n",
    "import pandas as pd\n",
    "import matplotlib.pyplot as plt # plotting methods\n",
    "import os # create, load files directories\n",
    "import cv2 # to read images"
   ]
  },
  {
   "cell_type": "code",
   "execution_count": 213,
   "metadata": {},
   "outputs": [
    {
     "name": "stdout",
     "output_type": "stream",
     "text": [
      "[name: \"/device:CPU:0\"\n",
      "device_type: \"CPU\"\n",
      "memory_limit: 268435456\n",
      "locality {\n",
      "}\n",
      "incarnation: 12111315663083582033\n",
      ", name: \"/device:GPU:0\"\n",
      "device_type: \"GPU\"\n",
      "memory_limit: 1576534016\n",
      "locality {\n",
      "  bus_id: 1\n",
      "  links {\n",
      "  }\n",
      "}\n",
      "incarnation: 10214728867381297552\n",
      "physical_device_desc: \"device: 0, name: GeForce GTX 960M, pci bus id: 0000:01:00.0, compute capability: 5.0\"\n",
      "]\n",
      "[PhysicalDevice(name='/physical_device:GPU:0', device_type='GPU')]\n",
      "Num GPUs Available:  1\n"
     ]
    }
   ],
   "source": [
    "import tensorflow as tf\n",
    "from tensorflow.python.client import device_lib\n",
    "\n",
    "print(device_lib.list_local_devices())\n",
    "print(tf.config.list_physical_devices('GPU'))\n",
    "print(\"Num GPUs Available: \", len(tf.config.experimental.list_physical_devices('GPU')))"
   ]
  },
  {
   "cell_type": "code",
   "execution_count": 214,
   "metadata": {},
   "outputs": [
    {
     "data": {
      "text/plain": [
       "<tensorflow.python.client.session.Session at 0x7faa9b991580>"
      ]
     },
     "execution_count": 214,
     "metadata": {},
     "output_type": "execute_result"
    }
   ],
   "source": [
    "# test tensorflow access CuDNN\n",
    "tf.compat.v1.Session()\n"
   ]
  },
  {
   "cell_type": "markdown",
   "metadata": {},
   "source": [
    "## Data preparation or Data preprocessing"
   ]
  },
  {
   "cell_type": "code",
   "execution_count": 215,
   "metadata": {
    "scrolled": true
   },
   "outputs": [
    {
     "data": {
      "text/plain": [
       "['6_27.png',\n",
       " '7_19.png',\n",
       " '6_16.png',\n",
       " '7_10.png',\n",
       " '267_2.png',\n",
       " '10_30.png',\n",
       " '7_23.png',\n",
       " '1_31.png',\n",
       " '6_6.png',\n",
       " '243_2.png',\n",
       " '11_18.png',\n",
       " '4_11.png',\n",
       " '10_24.png',\n",
       " '277_2.png',\n",
       " '8_15.png',\n",
       " '8_21.png',\n",
       " '6_14.png',\n",
       " '1_23.png',\n",
       " '8_29.png',\n",
       " '241_1.png',\n",
       " '7_20.png',\n",
       " '244_1.png',\n",
       " '5_23.png',\n",
       " '2_2.png',\n",
       " '11_20.png',\n",
       " '11_2.png',\n",
       " '3_23.png',\n",
       " '3_17.png',\n",
       " '11_1.png',\n",
       " '11_7.png',\n",
       " '237_2.png',\n",
       " '238_2.png',\n",
       " '261_2.png',\n",
       " '275_2.png',\n",
       " '263_1.png',\n",
       " '256_1.png',\n",
       " '236_1.png',\n",
       " '10_11.png',\n",
       " '10_20.png',\n",
       " '6_25.png',\n",
       " '2_1.png',\n",
       " '11_15.png',\n",
       " '4_21.png',\n",
       " '11_25.png',\n",
       " '9_6.png',\n",
       " '6_17.png',\n",
       " '11_16.png',\n",
       " '249_1.png',\n",
       " '1_5.png',\n",
       " '9_29.png',\n",
       " '9_31.png',\n",
       " '259_2.png',\n",
       " '245_2.png',\n",
       " '233_1.png',\n",
       " '3_6.png',\n",
       " '11_31.png',\n",
       " '5_27.png',\n",
       " '9_25.png',\n",
       " '11_8.png',\n",
       " '1_21.png',\n",
       " '9_27.png',\n",
       " '248_1.png',\n",
       " '1_1.png',\n",
       " '4_30.png',\n",
       " '275_1.png',\n",
       " '2_11.png',\n",
       " '268_1.png',\n",
       " '10_29.png',\n",
       " '10_28.png',\n",
       " '1_19.png',\n",
       " '11_26.png',\n",
       " '2_16.png',\n",
       " '1_13.png',\n",
       " '3_7.png',\n",
       " '2_21.png',\n",
       " '236_2.png',\n",
       " '1_7.png',\n",
       " '11_4.png',\n",
       " '3_26.png',\n",
       " '1_29.png',\n",
       " '255_2.png',\n",
       " '10_14.png',\n",
       " '8_20.png',\n",
       " '10_13.png',\n",
       " '1_27.png',\n",
       " '3_21.png',\n",
       " '7_18.png',\n",
       " '260_2.png',\n",
       " '9_8.png',\n",
       " '5_14.png',\n",
       " '5_5.png',\n",
       " '8_31.png',\n",
       " '2_24.png',\n",
       " '6_30.png',\n",
       " '7_1.png',\n",
       " '267_1.png',\n",
       " '243_1.png',\n",
       " '6_9.png',\n",
       " '239_1.png',\n",
       " '2_22.png',\n",
       " '224_1.png',\n",
       " '257_1.png',\n",
       " '6_24.png',\n",
       " '11_21.png',\n",
       " '4_12.png',\n",
       " '4_16.png',\n",
       " '8_10.png',\n",
       " '10_3.png',\n",
       " '2_26.png',\n",
       " '1_14.png',\n",
       " '276_2.png',\n",
       " '2_17.png',\n",
       " '4_22.png',\n",
       " '228_2.png',\n",
       " '8_28.png',\n",
       " '10_8.png',\n",
       " '242_2.png',\n",
       " '5_17.png',\n",
       " '6_12.png',\n",
       " '225_1.png',\n",
       " '2_12.png',\n",
       " '1_3.png',\n",
       " '7_8.png',\n",
       " '9_15.png',\n",
       " '3_30.png',\n",
       " '10_10.png',\n",
       " '8_30.png',\n",
       " '2_15.png',\n",
       " '225_2.png',\n",
       " '4_10.png',\n",
       " '5_15.png',\n",
       " '10_15.png',\n",
       " '232_1.png',\n",
       " '6_10.png',\n",
       " '5_4.png',\n",
       " '1_25.png',\n",
       " '1_17.png',\n",
       " '5_6.png',\n",
       " '235_2.png',\n",
       " '7_29.png',\n",
       " '10_21.png',\n",
       " '9_9.png',\n",
       " '9_26.png',\n",
       " '9_13.png',\n",
       " '7_21.png',\n",
       " '264_1.png',\n",
       " '3_1.png',\n",
       " '4_18.png',\n",
       " '4_5.png',\n",
       " '4_4.png',\n",
       " '254_1.png',\n",
       " '255_1.png',\n",
       " '8_11.png',\n",
       " '3_31.png',\n",
       " '278_1.png',\n",
       " '11_29.png',\n",
       " '6_13.png',\n",
       " '8_9.png',\n",
       " '7_13.png',\n",
       " '9_10.png',\n",
       " '4_23.png',\n",
       " '274_2.png',\n",
       " '5_1.png',\n",
       " '3_2.png',\n",
       " '9_23.png',\n",
       " '8_17.png',\n",
       " '252_2.png',\n",
       " '3_13.png',\n",
       " '9_11.png',\n",
       " '10_23.png',\n",
       " '6_26.png',\n",
       " '8_13.png',\n",
       " '233_2.png',\n",
       " '4_29.png',\n",
       " '3_10.png',\n",
       " '268_2.png',\n",
       " '7_30.png',\n",
       " '9_21.png',\n",
       " '244_2.png',\n",
       " '270_2.png',\n",
       " '4_20.png',\n",
       " '10_12.png',\n",
       " '5_22.png',\n",
       " '10_4.png',\n",
       " '6_22.png',\n",
       " '7_17.png',\n",
       " '2_3.png',\n",
       " '235_1.png',\n",
       " '3_25.png',\n",
       " '11_22.png',\n",
       " '1_20.png',\n",
       " '5_2.png',\n",
       " '10_26.png',\n",
       " '8_22.png',\n",
       " '5_19.png',\n",
       " '9_30.png',\n",
       " '6_31.png',\n",
       " '1_16.png',\n",
       " '4_19.png',\n",
       " '9_14.png',\n",
       " '9_19.png',\n",
       " '252_1.png',\n",
       " '5_7.png',\n",
       " '7_11.png',\n",
       " '274_1.png',\n",
       " '7_27.png',\n",
       " '272_2.png',\n",
       " '11_14.png',\n",
       " '2_18.png',\n",
       " '9_18.png',\n",
       " '1_26.png',\n",
       " '8_24.png',\n",
       " '2_13.png',\n",
       " '8_18.png',\n",
       " '4_28.png',\n",
       " '253_2.png',\n",
       " '9_2.png',\n",
       " '8_6.png',\n",
       " '3_12.png',\n",
       " '229_2.png',\n",
       " '269_2.png',\n",
       " '271_1.png',\n",
       " '4_2.png',\n",
       " '234_1.png',\n",
       " '227_1.png',\n",
       " '251_2.png',\n",
       " '11_11.png',\n",
       " '7_24.png',\n",
       " '8_1.png',\n",
       " '2_19.png',\n",
       " '3_28.png',\n",
       " '6_2.png',\n",
       " '11_27.png',\n",
       " '3_3.png',\n",
       " '6_18.png',\n",
       " '10_2.png',\n",
       " '9_24.png',\n",
       " '4_1.png',\n",
       " '257_2.png',\n",
       " '9_16.png',\n",
       " '270_1.png',\n",
       " '247_1.png',\n",
       " '1_11.png',\n",
       " '1_28.png',\n",
       " '9_5.png',\n",
       " '3_9.png',\n",
       " '269_1.png',\n",
       " '3_27.png',\n",
       " '5_26.png',\n",
       " '9_22.png',\n",
       " '7_14.png',\n",
       " '1_6.png',\n",
       " '11_13.png',\n",
       " '6_11.png',\n",
       " '245_1.png',\n",
       " '5_29.png',\n",
       " '5_18.png',\n",
       " '9_4.png',\n",
       " '232_2.png',\n",
       " '11_9.png',\n",
       " '10_25.png',\n",
       " '9_12.png',\n",
       " '7_25.png',\n",
       " '226_2.png',\n",
       " '2_7.png',\n",
       " '4_15.png',\n",
       " '241_2.png',\n",
       " '9_1.png',\n",
       " '2_20.png',\n",
       " '2_28.png',\n",
       " '3_4.png',\n",
       " '2_6.png',\n",
       " '254_2.png',\n",
       " '6_29.png',\n",
       " '11_28.png',\n",
       " '247_2.png',\n",
       " '9_7.png',\n",
       " '1_2.png',\n",
       " '2_8.png',\n",
       " '11_5.png',\n",
       " '4_14.png',\n",
       " '248_2.png',\n",
       " '10_16.png',\n",
       " '4_27.png',\n",
       " '234_2.png',\n",
       " '272_1.png',\n",
       " '7_22.png',\n",
       " '4_24.png',\n",
       " '1_30.png',\n",
       " '277_1.png',\n",
       " '6_8.png',\n",
       " '1_9.png',\n",
       " '250_2.png',\n",
       " '6_23.png',\n",
       " '1_18.png',\n",
       " '227_2.png',\n",
       " '8_23.png',\n",
       " '1_10.png',\n",
       " '10_6.png',\n",
       " '7_4.png',\n",
       " '273_1.png',\n",
       " '2_9.png',\n",
       " '8_2.png',\n",
       " '5_21.png',\n",
       " '3_22.png',\n",
       " '246_2.png',\n",
       " '4_8.png',\n",
       " '10_31.png',\n",
       " '6_21.png',\n",
       " '11_23.png',\n",
       " '4_9.png',\n",
       " '4_3.png',\n",
       " '246_1.png',\n",
       " '7_15.png',\n",
       " '5_10.png',\n",
       " '263_2.png',\n",
       " '6_1.png',\n",
       " '11_3.png',\n",
       " '7_12.png',\n",
       " '1_24.png',\n",
       " '10_22.png',\n",
       " '7_6.png',\n",
       " '3_18.png',\n",
       " '266_1.png',\n",
       " '8_14.png',\n",
       " '2_27.png',\n",
       " '2_23.png',\n",
       " '7_16.png',\n",
       " '11_17.png',\n",
       " '8_19.png',\n",
       " '5_31.png',\n",
       " '2_25.png',\n",
       " '4_17.png',\n",
       " '9_28.png',\n",
       " '7_3.png',\n",
       " '5_28.png',\n",
       " '10_27.png',\n",
       " '6_19.png',\n",
       " '4_26.png',\n",
       " '10_5.png',\n",
       " '7_28.png',\n",
       " '7_31.png',\n",
       " '2_5.png',\n",
       " '5_9.png',\n",
       " '11_30.png',\n",
       " '4_6.png',\n",
       " '6_3.png',\n",
       " '2_31.png',\n",
       " '10_19.png',\n",
       " '226_1.png',\n",
       " '240_1.png',\n",
       " '256_2.png',\n",
       " '8_12.png',\n",
       " '266_2.png',\n",
       " '3_15.png',\n",
       " '1_15.png',\n",
       " '249_2.png',\n",
       " '9_20.png',\n",
       " '7_26.png',\n",
       " '5_30.png',\n",
       " '1_8.png',\n",
       " '5_11.png',\n",
       " '258_2.png',\n",
       " '251_1.png',\n",
       " '3_5.png',\n",
       " '258_1.png',\n",
       " '273_2.png',\n",
       " '4_25.png',\n",
       " '238_1.png',\n",
       " '11_24.png',\n",
       " '6_15.png',\n",
       " '271_2.png',\n",
       " '8_27.png',\n",
       " '6_7.png',\n",
       " '8_7.png',\n",
       " '5_25.png',\n",
       " '10_9.png',\n",
       " '6_4.png',\n",
       " '3_8.png',\n",
       " '11_12.png',\n",
       " '253_1.png',\n",
       " '2_30.png',\n",
       " '7_9.png',\n",
       " '5_8.png',\n",
       " '6_20.png',\n",
       " '260_1.png',\n",
       " '5_13.png',\n",
       " '3_24.png',\n",
       " '11_19.png',\n",
       " '11_10.png',\n",
       " '237_1.png',\n",
       " '276_1.png',\n",
       " '265_1.png',\n",
       " '2_10.png',\n",
       " '262_2.png',\n",
       " '259_1.png',\n",
       " '8_8.png',\n",
       " '3_16.png',\n",
       " '231_2.png',\n",
       " '7_7.png',\n",
       " '6_28.png',\n",
       " '6_5.png',\n",
       " '4_7.png',\n",
       " '2_14.png',\n",
       " '1_22.png',\n",
       " '8_3.png',\n",
       " '3_14.png',\n",
       " '9_17.png',\n",
       " '2_29.png',\n",
       " '10_18.png',\n",
       " '7_2.png',\n",
       " '239_2.png',\n",
       " '3_20.png',\n",
       " '2_4.png',\n",
       " '230_2.png',\n",
       " '5_24.png',\n",
       " '230_1.png',\n",
       " '8_5.png',\n",
       " '229_1.png',\n",
       " '265_2.png',\n",
       " '250_1.png',\n",
       " '5_3.png',\n",
       " '8_4.png',\n",
       " '240_2.png',\n",
       " '8_26.png',\n",
       " '4_13.png',\n",
       " '10_17.png',\n",
       " '1_12.png',\n",
       " '5_12.png',\n",
       " '11_6.png',\n",
       " '262_1.png',\n",
       " '278_2.png',\n",
       " '261_1.png',\n",
       " '3_19.png',\n",
       " '228_1.png',\n",
       " '224_2.png',\n",
       " '231_1.png',\n",
       " '8_16.png',\n",
       " '242_1.png',\n",
       " '3_11.png',\n",
       " '4_31.png',\n",
       " '5_16.png',\n",
       " '264_2.png',\n",
       " '8_25.png',\n",
       " '7_5.png',\n",
       " '10_7.png',\n",
       " '10_1.png',\n",
       " '9_3.png',\n",
       " '1_4.png',\n",
       " '3_29.png',\n",
       " '5_20.png']"
      ]
     },
     "execution_count": 215,
     "metadata": {},
     "output_type": "execute_result"
    }
   ],
   "source": [
    "# load images\n",
    "# define path locations\n",
    "img_path = [\"CNN_images/LW/\"\n",
    "            ,\"CNN_images/TR/\"\n",
    "            ,\"CNN_images/SW/\" \n",
    "            ,\"CNN_images/TS/\"\n",
    "            ,\"CNN_images/ZP/\"\n",
    "           ]\n",
    "    \n",
    "#img_path = 'CNN_images/LW/'\n",
    "# list all images in given path\n",
    "os.listdir(img_path[4])"
   ]
  },
  {
   "cell_type": "code",
   "execution_count": 216,
   "metadata": {},
   "outputs": [
    {
     "name": "stdout",
     "output_type": "stream",
     "text": [
      "2\n"
     ]
    }
   ],
   "source": [
    "# testing numpy arrays\n",
    "\n",
    "#foo = np.empty((3,4))\n",
    "#goo = np.empty((3,4))\n",
    "#print(foo)\n",
    "#print(foo.shape)\n",
    "\n",
    "#x = foo[np.newaxis, :, :]\n",
    "#y = foo[np.newaxis, :, :]\n",
    "#print(x.shape, \" \", y.shape)\n",
    "\n",
    "#print(np.concatenate((x,y)).shape)\n",
    "a = (1,2)\n",
    "print(a[1])"
   ]
  },
  {
   "cell_type": "code",
   "execution_count": 56,
   "metadata": {},
   "outputs": [],
   "source": [
    "# define function to load all images from given folder\n",
    "# return list\n",
    "def load_images_from_folder(folder, class_name, img_size = None):\n",
    "    # empty list to store images\n",
    "    images = []\n",
    "    for filename in os.listdir(folder):\n",
    "        # read image using cv2 method. Takes as arguemnts: (filename, flag)\n",
    "        img = cv2.imread(os.path.join(folder, filename), 0) # 0 = imread_grayscale; 1: color; -1: unchanged\n",
    "        if(img is not None):\n",
    "            if(img_size != None):\n",
    "                cv2.resize(img, img_size)\n",
    "            images.append([class_name, img])  \n",
    "    return images"
   ]
  },
  {
   "cell_type": "code",
   "execution_count": 217,
   "metadata": {},
   "outputs": [],
   "source": [
    "# alternative function\n",
    "# return numpy array of shape (img number, pixel x, pixel y)\n",
    "def load_image_data(folder, img_size = (200, 200), max_num_images = None):\n",
    "    i = 0 # control of first element assigment\n",
    "    for filename in os.listdir(folder):\n",
    "        img = cv2.imread(os.path.join(folder, filename), 0) # 0 = imread_grayscale; 1: color; -1: unchanged\n",
    "        img = cv2.resize(img, img_size)                     # resize image\n",
    "        #img = np.array(img)                                # as numpy array\n",
    "        img = img[np.newaxis, :, :]                         # add one more dimension to track sample number\n",
    "        if(i == 0):\n",
    "            img_array = img\n",
    "        else:\n",
    "            img_array = np.concatenate((img_array, img))    # concatenate numpy arrays\n",
    "        i += 1\n",
    "        if(max_num_images is not None and i >= max_num_images): # break the loop \n",
    "            break\n",
    "    return img_array"
   ]
  },
  {
   "cell_type": "code",
   "execution_count": 58,
   "metadata": {},
   "outputs": [],
   "source": [
    "# testing the function\n",
    "\n",
    "#lw = [s for s in img_path if s == \"CNN_images/LW/\"]\n",
    "#print(lw)\n",
    "\n",
    "#print(img_path[0])\n",
    "\n",
    "#foo = load_image_data(folder = img_path[0], img_size = (200,200))"
   ]
  },
  {
   "cell_type": "code",
   "execution_count": 59,
   "metadata": {},
   "outputs": [],
   "source": [
    "#foo.shape"
   ]
  },
  {
   "cell_type": "code",
   "execution_count": 60,
   "metadata": {},
   "outputs": [],
   "source": [
    "#print(\"length of array of images \", foo.shape[0])\n",
    "#print(foo[0])"
   ]
  },
  {
   "cell_type": "code",
   "execution_count": 218,
   "metadata": {},
   "outputs": [],
   "source": [
    "# load LW images:\n",
    "img_size = (128, 128)\n",
    "n_images = 256\n",
    "img_LW = load_image_data(img_path[0], img_size, n_images)\n",
    "img_TR = load_image_data(img_path[1], img_size, n_images)\n",
    "img_SW = load_image_data(img_path[2], img_size, n_images)\n",
    "img_TS = load_image_data(img_path[3], img_size, n_images)\n",
    "img_ZP = load_image_data(img_path[4], img_size, n_images)"
   ]
  },
  {
   "cell_type": "code",
   "execution_count": 219,
   "metadata": {},
   "outputs": [
    {
     "name": "stdout",
     "output_type": "stream",
     "text": [
      "[[[  1   1   0 ...   1   1   0]\n",
      "  [  1   1   0 ...   0   0   1]\n",
      "  [  1   1   1 ...   0   2   1]\n",
      "  ...\n",
      "  [ 75  64  66 ...  98 137  67]\n",
      "  [179 210 194 ... 236 201 108]\n",
      "  [114 137 173 ... 154 108  80]]\n",
      "\n",
      " [[  0   1   1 ...   1   0   0]\n",
      "  [  0   1   0 ...   0   1   0]\n",
      "  [  0   0   0 ...   0   1   1]\n",
      "  ...\n",
      "  [ 63  74  17 ...  58  27  56]\n",
      "  [ 79  66  47 ... 199  90  97]\n",
      "  [ 52  40  67 ...  33  78  72]]\n",
      "\n",
      " [[  0   1   1 ...   0   2   2]\n",
      "  [  0   0   1 ...   1   1   0]\n",
      "  [  1   2   0 ...   2   1   1]\n",
      "  ...\n",
      "  [ 66  41  66 ...  26  79  64]\n",
      "  [ 80 112 165 ...  79 146 107]\n",
      "  [ 97  52 120 ...  48  77  98]]\n",
      "\n",
      " ...\n",
      "\n",
      " [[  0   0   1 ...   1   0   0]\n",
      "  [  0   1   1 ...   1   0   0]\n",
      "  [  1   0   1 ...   2   0   0]\n",
      "  ...\n",
      "  [ 54  64  33 ...  35  61  41]\n",
      "  [ 65 103  71 ... 149  91 127]\n",
      "  [ 54  42  61 ...  87  46 105]]\n",
      "\n",
      " [[  6  11  16 ...   7   7   1]\n",
      "  [  9   5   6 ...  15  13  12]\n",
      "  [ 15  11  14 ...  12   7  10]\n",
      "  ...\n",
      "  [  9  16  25 ...   9  12  14]\n",
      "  [  8   7   9 ...  24  16   8]\n",
      "  [  8   8   5 ...   4   5   4]]\n",
      "\n",
      " [[  0   0   1 ...   0   1   1]\n",
      "  [  1   1   0 ...   0   1   1]\n",
      "  [  1   0   1 ...   0   0   0]\n",
      "  ...\n",
      "  [ 64  73  41 ...  34  22  23]\n",
      "  [ 97  76  56 ...  98  95 146]\n",
      "  [ 83  57  68 ...  12  36 112]]]\n"
     ]
    }
   ],
   "source": [
    "print(img_LW)"
   ]
  },
  {
   "cell_type": "code",
   "execution_count": 220,
   "metadata": {},
   "outputs": [
    {
     "data": {
      "text/plain": [
       "<matplotlib.image.AxesImage at 0x7faa9a106ee0>"
      ]
     },
     "execution_count": 220,
     "metadata": {},
     "output_type": "execute_result"
    },
    {
     "data": {
      "image/png": "[encoded data removed]",
      "text/plain": [
       "<Figure size 432x288 with 1 Axes>"
      ]
     },
     "metadata": {
      "needs_background": "light"
     },
     "output_type": "display_data"
    }
   ],
   "source": [
    "#and let's take a look at it\n",
    "#from matplotlib import pyplot\n",
    "\n",
    "plt.imshow(img_LW[0][:][:],        # the image data\n",
    "           cmap = \"gray\",          # gray scale\n",
    "           vmin = 0, vmax = 255,   # data range that the colormap covers\n",
    "           aspect = \"auto\"         # draw image using fixed axis (this can result in nonsquare pixels! \n",
    "                                   # i.e., distortion)\n",
    "          )"
   ]
  },
  {
   "cell_type": "code",
   "execution_count": 221,
   "metadata": {},
   "outputs": [
    {
     "data": {
      "text/plain": [
       "<matplotlib.image.AxesImage at 0x7faa9a0d3cd0>"
      ]
     },
     "execution_count": 221,
     "metadata": {},
     "output_type": "execute_result"
    },
    {
     "data": {
      "image/png": "[encoded data removed]",
      "text/plain": [
       "<Figure size 432x288 with 1 Axes>"
      ]
     },
     "metadata": {
      "needs_background": "light"
     },
     "output_type": "display_data"
    }
   ],
   "source": [
    "#Trills:\n",
    "#from matplotlib import pyplot\n",
    "\n",
    "plt.imshow(img_TR[2][:][:],        # the image data\n",
    "           cmap = \"gray\",          # gray scale\n",
    "           vmin = 0, vmax = 255,   # data range that the colormap covers\n",
    "           aspect = \"auto\"         # draw image using fixed axis\n",
    "           )"
   ]
  },
  {
   "cell_type": "code",
   "execution_count": 222,
   "metadata": {},
   "outputs": [
    {
     "data": {
      "text/plain": [
       "<matplotlib.image.AxesImage at 0x7faa9a0a5e50>"
      ]
     },
     "execution_count": 222,
     "metadata": {},
     "output_type": "execute_result"
    },
    {
     "data": {
      "image/png": "[encoded data removed]",
      "text/plain": [
       "<Figure size 432x288 with 1 Axes>"
      ]
     },
     "metadata": {
      "needs_background": "light"
     },
     "output_type": "display_data"
    }
   ],
   "source": [
    "#Short whistles:\n",
    "#from matplotlib import pyplot\n",
    "\n",
    "plt.imshow(img_SW[0][:][:],        # the image data\n",
    "           cmap = \"gray\",          # gray scale\n",
    "           vmin = 0, vmax = 255,   # data range that the colormap covers\n",
    "           aspect = \"auto\"         # draw image using fixed axis\n",
    "           )"
   ]
  },
  {
   "cell_type": "code",
   "execution_count": 223,
   "metadata": {},
   "outputs": [
    {
     "data": {
      "text/plain": [
       "<matplotlib.image.AxesImage at 0x7faa99ffd8b0>"
      ]
     },
     "execution_count": 223,
     "metadata": {},
     "output_type": "execute_result"
    },
    {
     "data": {
      "image/png": "[encoded data removed]",
      "text/plain": [
       "<Figure size 432x288 with 1 Axes>"
      ]
     },
     "metadata": {
      "needs_background": "light"
     },
     "output_type": "display_data"
    }
   ],
   "source": [
    "#Tsaks:\n",
    "#from matplotlib import pyplot\n",
    "\n",
    "plt.imshow(img_TS[0][:][:],        # the image data\n",
    "           cmap = \"gray\",          # gray scale\n",
    "           vmin = 0, vmax = 255,   # data range that the colormap covers\n",
    "           aspect = \"auto\"         # draw image using fixed axis\n",
    "           )"
   ]
  },
  {
   "cell_type": "code",
   "execution_count": 224,
   "metadata": {},
   "outputs": [
    {
     "data": {
      "text/plain": [
       "<matplotlib.image.AxesImage at 0x7faab42f9f40>"
      ]
     },
     "execution_count": 224,
     "metadata": {},
     "output_type": "execute_result"
    },
    {
     "data": {
      "image/png": "[encoded data removed]",
      "text/plain": [
       "<Figure size 432x288 with 1 Axes>"
      ]
     },
     "metadata": {
      "needs_background": "light"
     },
     "output_type": "display_data"
    }
   ],
   "source": [
    "#Zips:\n",
    "#from matplotlib import pyplot\n",
    "\n",
    "plt.imshow(img_ZP[0][:][:],        # the image data\n",
    "           cmap = \"gray\",          # gray scale\n",
    "           vmin = 0, vmax = 255,   # data range that the colormap covers\n",
    "           aspect = \"auto\"         # draw image using fixed axis\n",
    "           )"
   ]
  },
  {
   "cell_type": "code",
   "execution_count": 225,
   "metadata": {},
   "outputs": [
    {
     "name": "stdout",
     "output_type": "stream",
     "text": [
      "check the shape of the image data:\n",
      "img LW:  (256, 128, 128)\n",
      "img TR:  (100, 128, 128)\n",
      "img SW:  (256, 128, 128)\n",
      "img TS:  (256, 128, 128)\n",
      "img ZP:  (256, 128, 128)\n",
      "the shape (length) of target label:\n",
      "LW:  256\n",
      "TR:  100\n",
      "SW:  256\n",
      "TS:  256\n",
      "ZP:  256\n"
     ]
    }
   ],
   "source": [
    "print(\"check the shape of the image data:\")\n",
    "print(\"img LW: \", img_LW.shape)\n",
    "print(\"img TR: \", img_TR.shape)\n",
    "print(\"img SW: \", img_SW.shape)\n",
    "print(\"img TS: \", img_TS.shape)\n",
    "print(\"img ZP: \", img_ZP.shape)\n",
    "\n",
    "# create target labels as lists\n",
    "lw = [\"lw\"] * img_LW.shape[0]\n",
    "tr = [\"tr\"] * img_TR.shape[0]\n",
    "sw = [\"sw\"] * img_SW.shape[0]\n",
    "ts = [\"ts\"] * img_TS.shape[0]\n",
    "zp = [\"zp\"] * img_ZP.shape[0]\n",
    "\n",
    "print(\"the shape (length) of target label:\")\n",
    "print(\"LW: \", len(lw))\n",
    "print(\"TR: \", len(tr))\n",
    "print(\"SW: \", len(sw))\n",
    "print(\"TS: \", len(ts))\n",
    "print(\"ZP: \", len(zp))"
   ]
  },
  {
   "cell_type": "code",
   "execution_count": 226,
   "metadata": {},
   "outputs": [
    {
     "name": "stdout",
     "output_type": "stream",
     "text": [
      "(1124, 128, 128)\n"
     ]
    }
   ],
   "source": [
    "# APPEND ALL IMAGE DATA: TARGET + FEATURES\n",
    "features = np.concatenate(\n",
    "                            (img_LW, img_TR, img_SW, img_TS, img_ZP)\n",
    "                         )\n",
    "\n",
    "# check shape\n",
    "print(features.shape)"
   ]
  },
  {
   "cell_type": "code",
   "execution_count": 227,
   "metadata": {},
   "outputs": [
    {
     "name": "stdout",
     "output_type": "stream",
     "text": [
      "1124\n"
     ]
    }
   ],
   "source": [
    "# list append, appends single value; list extend, for multiple values\n",
    "# lw.extend([tr + sw + ts + zp) # one possibility\n",
    "# another,\n",
    "target = lw + tr + sw + ts + zp\n",
    "\n",
    "# check shape of target labels\n",
    "print(len(target))"
   ]
  },
  {
   "cell_type": "code",
   "execution_count": 228,
   "metadata": {},
   "outputs": [],
   "source": [
    "# (OBSOLETE) convert to numpy array before using the sklearn StratifiedShuffleSplit method\n",
    "#features = np.array(img_LW, dtype = \"object\")\n",
    "#labels = np.array(lw)\n",
    "\n",
    "#print(\"features, labels shape: \", features.shape, \", \", labels.shape)"
   ]
  },
  {
   "cell_type": "code",
   "execution_count": 229,
   "metadata": {},
   "outputs": [
    {
     "name": "stdout",
     "output_type": "stream",
     "text": [
      "[0 0 0 ... 4 4 4]\n"
     ]
    }
   ],
   "source": [
    "# encode the labels\n",
    "# we use a sklearn preprossesing method: label encoder\n",
    "# we follow import declare use\n",
    "# Note that label variable is also called target\n",
    "from sklearn import preprocessing\n",
    "\n",
    "# label encoder le\n",
    "# declare object\n",
    "le = preprocessing.LabelEncoder() # a label encoder\n",
    "\n",
    "# use object\n",
    "label = le.fit(target)\n",
    "\n",
    "# convert to numerical\n",
    "target = le.transform(target)\n",
    "\n",
    "labels = target\n",
    "\n",
    "print(target)"
   ]
  },
  {
   "cell_type": "code",
   "execution_count": 230,
   "metadata": {},
   "outputs": [
    {
     "name": "stdout",
     "output_type": "stream",
     "text": [
      "[[1. 0. 0. 0. 0.]\n",
      " [1. 0. 0. 0. 0.]\n",
      " [1. 0. 0. 0. 0.]\n",
      " ...\n",
      " [0. 0. 0. 0. 1.]\n",
      " [0. 0. 0. 0. 1.]\n",
      " [0. 0. 0. 0. 1.]]\n"
     ]
    }
   ],
   "source": [
    "# convert categorical labels to binary class matrix (One Hot Encoding OHE)\n",
    "# here we use a method from the keras module\n",
    "from tensorflow.keras.utils import to_categorical\n",
    "\n",
    "target = to_categorical(target)\n",
    "\n",
    "print(target)"
   ]
  },
  {
   "cell_type": "code",
   "execution_count": 231,
   "metadata": {},
   "outputs": [],
   "source": [
    "# release some memory\n",
    "del img_LW, img_TR, img_SW, img_TS, img_ZP, lw, tr, sw, ts, zp"
   ]
  },
  {
   "cell_type": "markdown",
   "metadata": {},
   "source": [
    "##  Train Test Split\n",
    "\n",
    "Here it is recommended to split each block of images at a time. Example, split img_LW, then trills, and so on"
   ]
  },
  {
   "cell_type": "code",
   "execution_count": 232,
   "metadata": {},
   "outputs": [
    {
     "name": "stdout",
     "output_type": "stream",
     "text": [
      "Training features shape:  (899, 128, 128)\n",
      "Training target labels shape:  (899, 5)\n",
      "Test features shape:  (225, 128, 128)\n",
      "Test target labels shape:  (225, 5)\n"
     ]
    }
   ],
   "source": [
    "# In order to have a balance data: i.e., same proportion of classes in both, train and test sets\n",
    "# we import the class StratifiedShuffleSplit from sklearn.model_selection\n",
    "# Again: import, declare, use\n",
    "from sklearn.model_selection import StratifiedShuffleSplit\n",
    "\n",
    "# declare Stratefied... object with 20% data assign to validation (test) set\n",
    "sss = StratifiedShuffleSplit(n_splits = 1\n",
    "                            ,test_size = 0.2\n",
    "                            ,random_state = 0)\n",
    "\n",
    "\n",
    "# split the data based on the sss object\n",
    "for train_index, test_index in sss.split(features, target):\n",
    "    features_train = features[train_index] # data in features selected for training\n",
    "    features_test  = features[test_index] # data in features selected for testing\n",
    "    target_train   = target  [train_index] # data in labels selected for training\n",
    "    target_test    = target  [test_index] # data in labels selected for testing\n",
    "\n",
    "# print shapes of train and test data sets. Test data is 20% of original\n",
    "print(\"Training features shape: \", features_train.shape)\n",
    "print(\"Training target labels shape: \", target_train.shape)\n",
    "print(\"Test features shape: \", features_test.shape)\n",
    "print(\"Test target labels shape: \", target_test.shape)"
   ]
  },
  {
   "cell_type": "code",
   "execution_count": 233,
   "metadata": {},
   "outputs": [
    {
     "name": "stdout",
     "output_type": "stream",
     "text": [
      "maximum pixel value:  255\n",
      "minimum pixel value:  0\n"
     ]
    }
   ],
   "source": [
    "# check value range of image data\n",
    "# should be minimum 0, maximum 255\n",
    "\n",
    "print(\"maximum pixel value: \", np.max(features_train))\n",
    "print(\"minimum pixel value: \", np.amin(features_train))"
   ]
  },
  {
   "cell_type": "code",
   "execution_count": 234,
   "metadata": {},
   "outputs": [
    {
     "name": "stdout",
     "output_type": "stream",
     "text": [
      "[[0.01176471 0.00784314 0.01960784 ... 0.00784314 0.01176471 0.01960784]\n",
      " [0.         0.00392157 0.01568628 ... 0.01960784 0.00784314 0.01960784]\n",
      " [0.00784314 0.01176471 0.01960784 ... 0.01176471 0.01176471 0.01176471]\n",
      " ...\n",
      " [0.87058824 0.7882353  0.2901961  ... 0.5764706  1.         0.8745098 ]\n",
      " [0.2509804  0.37254903 0.08627451 ... 0.38431373 0.49019608 0.32156864]\n",
      " [0.12156863 0.1764706  0.28235295 ... 0.21960784 0.37254903 0.09803922]]\n",
      "features shape:  (899, 128, 128)\n"
     ]
    }
   ],
   "source": [
    "# the value range of image data is [0, 255] of integer type\n",
    "# it can be convenient to convert the data type to float32 and normalize the data in range (0, 1)\n",
    "# to speed up calculations during the learning process of the CNN model\n",
    "features_train = features_train.astype(\"float32\")    # change data type to float32\n",
    "features_train /= 255  # maximum pixel intensity value (see above)\n",
    "features_test = features_test.astype(\"float32\")\n",
    "features_test /= 255\n",
    "\n",
    "print(features_train[0][:][:])\n",
    "print(\"features shape: \", features_train.shape)"
   ]
  },
  {
   "cell_type": "markdown",
   "metadata": {},
   "source": [
    "we need to explicitly declare the depth of the image representation array: in the case of grayscale images there is only one channel, and this dimension is 1.\n",
    "\n",
    "We use the utility function image_data_format() from keras backend utilities to discover the convention ('channels_first' or 'channels_last') of our current system.\n",
    "\n",
    "Depending on the backend (Theano or TensorFlow), the depth dimension is either the first or the last to be declared:"
   ]
  },
  {
   "cell_type": "code",
   "execution_count": 235,
   "metadata": {},
   "outputs": [
    {
     "name": "stdout",
     "output_type": "stream",
     "text": [
      "Modified array dimensions:\n",
      "training:  (899, 128, 128, 1)\n",
      "test set:  (225, 128, 128, 1)\n",
      "(128, 128, 1)\n"
     ]
    }
   ],
   "source": [
    "# make sure keras is using tensorflow and not theano. \n",
    "# This impacts the way to represent the data dimentions for the learning process below\n",
    "# import keras # deprecated\n",
    "import tensorflow.keras as keras\n",
    "#from keras import backend as K # needed for image_data_format()\n",
    "\n",
    "img_rows = features.shape[1]\n",
    "img_cols = features.shape[2]\n",
    "\n",
    "if keras.backend.image_data_format() == 'channels_first':\n",
    "    features_train = features_train.reshape(features_train.shape[0], 1, img_rows, img_cols)\n",
    "    features_test = features_test.reshape(features_test.shape[0], 1, img_rows, img_cols)\n",
    "    input_shape = (1, img_rows, img_cols)\n",
    "else:\n",
    "    features_train = features_train.reshape(features_train.shape[0], img_rows, img_cols, 1)\n",
    "    features_test = features_test.reshape(features_test.shape[0], img_rows, img_cols, 1)\n",
    "    input_shape = (img_rows, img_cols, 1)\n",
    "\n",
    "print(\"Modified array dimensions:\")\n",
    "print(\"training: \", features_train.shape)\n",
    "print(\"test set: \", features_test.shape)\n",
    "print(input_shape)  "
   ]
  },
  {
   "cell_type": "code",
   "execution_count": 236,
   "metadata": {},
   "outputs": [
    {
     "name": "stdout",
     "output_type": "stream",
     "text": [
      "number of labels:  5\n"
     ]
    }
   ],
   "source": [
    "# check number of labels\n",
    "print(\"number of labels: \", target_test.shape[1])"
   ]
  },
  {
   "cell_type": "markdown",
   "metadata": {},
   "source": [
    "## Building the CNN model"
   ]
  },
  {
   "cell_type": "markdown",
   "metadata": {},
   "source": [
    "### Define the architecture "
   ]
  },
  {
   "cell_type": "code",
   "execution_count": 237,
   "metadata": {},
   "outputs": [],
   "source": [
    "from tensorflow.keras.models import Sequential\n",
    "from tensorflow.keras import models, layers\n",
    "from tensorflow.keras.layers import Conv2D, MaxPooling2D, Flatten\n",
    "from tensorflow.keras import optimizers\n",
    "from tensorflow.keras.callbacks import EarlyStopping\n",
    "from tensorflow.keras.callbacks import ReduceLROnPlateau\n",
    "\n",
    "# sequentially build the model\n",
    "model = models.Sequential()\n",
    "\n",
    "# add layers\n",
    "model.add(Conv2D( filters = 32         # number of output filters in the convolution \n",
    "                 ,kernel_size = (3,3)  # height and width of the 2d convolution windows\n",
    "                 ,padding = \"same\"     # padding \"relleno\": \"valid\" = without padding; \"same\": pad with zeros\n",
    "                 ,activation = \"relu\"  # no negative numbers\n",
    "                 ,input_shape = input_shape #(features_train.shape[1]  # when None: image can vary in size (width pixels)\n",
    "                                 #,features_train.shape[2] # when None: image can vary in size (height pixels)\n",
    "                                 #, n_channels = 1)     # only one channel (grey scale), otherwise, three (RGB color)\n",
    "                )\n",
    "         )\n",
    "model.add(MaxPooling2D(pool_size = (2,2)))\n",
    "#model.add(Conv2D(64, (3,3), padding = \"same\", activation = \"relu\"))\n",
    "#model.add(MaxPooling2D(pool_size = (2,2)))\n",
    "#model.add(Conv2D(128, (3,3), padding = \"same\", activation = \"relu\"))\n",
    "#model.add(MaxPooling2D(pool_size = (2,2)))\n",
    "model.add(layers.Flatten())\n",
    "model.add(layers.Dense(units = target_train.shape[1], activation = \"softmax\"))"
   ]
  },
  {
   "cell_type": "code",
   "execution_count": 238,
   "metadata": {},
   "outputs": [
    {
     "name": "stdout",
     "output_type": "stream",
     "text": [
      "Model: \"sequential_6\"\n",
      "_________________________________________________________________\n",
      "Layer (type)                 Output Shape              Param #   \n",
      "=================================================================\n",
      "conv2d_6 (Conv2D)            (None, 128, 128, 32)      320       \n",
      "_________________________________________________________________\n",
      "max_pooling2d_6 (MaxPooling2 (None, 64, 64, 32)        0         \n",
      "_________________________________________________________________\n",
      "flatten_6 (Flatten)          (None, 131072)            0         \n",
      "_________________________________________________________________\n",
      "dense_6 (Dense)              (None, 5)                 655365    \n",
      "=================================================================\n",
      "Total params: 655,685\n",
      "Trainable params: 655,685\n",
      "Non-trainable params: 0\n",
      "_________________________________________________________________\n",
      "None\n"
     ]
    }
   ],
   "source": [
    "# Take a look at the network topology\n",
    "print(model.summary())"
   ]
  },
  {
   "cell_type": "code",
   "execution_count": 239,
   "metadata": {},
   "outputs": [],
   "source": [
    "# Model compile\n",
    "model.compile(loss='categorical_crossentropy'\n",
    "              , optimizer='Adam'\n",
    "              , metrics=['accuracy'])"
   ]
  },
  {
   "cell_type": "code",
   "execution_count": 240,
   "metadata": {},
   "outputs": [],
   "source": [
    "# Parameter values, training scenario:\n",
    "num_epochs = 100"
   ]
  },
  {
   "cell_type": "markdown",
   "metadata": {},
   "source": [
    "## Train and test the model"
   ]
  },
  {
   "cell_type": "code",
   "execution_count": 241,
   "metadata": {},
   "outputs": [
    {
     "name": "stdout",
     "output_type": "stream",
     "text": [
      "Epoch 1/100\n",
      "8/8 [==============================] - 1s 97ms/step - loss: 1.2020 - accuracy: 0.4190\n",
      "Epoch 2/100\n",
      "8/8 [==============================] - 1s 90ms/step - loss: 0.4228 - accuracy: 0.9087\n",
      "Epoch 3/100\n",
      "8/8 [==============================] - 1s 90ms/step - loss: 0.1909 - accuracy: 0.9690\n",
      "Epoch 4/100\n",
      "8/8 [==============================] - 1s 90ms/step - loss: 0.0843 - accuracy: 0.9867\n",
      "Epoch 5/100\n",
      "8/8 [==============================] - 1s 91ms/step - loss: 0.0471 - accuracy: 0.9938\n",
      "Epoch 6/100\n",
      "8/8 [==============================] - 1s 91ms/step - loss: 0.0267 - accuracy: 0.9981\n",
      "Epoch 7/100\n",
      "8/8 [==============================] - 1s 91ms/step - loss: 0.0402 - accuracy: 0.9936\n",
      "Epoch 8/100\n",
      "8/8 [==============================] - 1s 92ms/step - loss: 0.0218 - accuracy: 0.9991\n",
      "Epoch 9/100\n",
      "8/8 [==============================] - 1s 91ms/step - loss: 0.0166 - accuracy: 0.9984\n",
      "Epoch 10/100\n",
      "8/8 [==============================] - 1s 91ms/step - loss: 0.0108 - accuracy: 1.0000\n",
      "Epoch 11/100\n",
      "8/8 [==============================] - 1s 91ms/step - loss: 0.0098 - accuracy: 1.0000\n",
      "Epoch 12/100\n",
      "8/8 [==============================] - 1s 92ms/step - loss: 0.0075 - accuracy: 1.0000\n",
      "Epoch 13/100\n",
      "8/8 [==============================] - 1s 92ms/step - loss: 0.0060 - accuracy: 1.0000\n",
      "Epoch 14/100\n",
      "8/8 [==============================] - 1s 92ms/step - loss: 0.0053 - accuracy: 1.0000\n",
      "Epoch 15/100\n",
      "8/8 [==============================] - 1s 92ms/step - loss: 0.0050 - accuracy: 1.0000\n",
      "Epoch 16/100\n",
      "8/8 [==============================] - 1s 91ms/step - loss: 0.0044 - accuracy: 1.0000\n",
      "Epoch 17/100\n",
      "8/8 [==============================] - 1s 92ms/step - loss: 0.0042 - accuracy: 1.0000\n",
      "Epoch 18/100\n",
      "8/8 [==============================] - 1s 92ms/step - loss: 0.0032 - accuracy: 1.0000\n",
      "Epoch 19/100\n",
      "8/8 [==============================] - 1s 92ms/step - loss: 0.0032 - accuracy: 1.0000\n",
      "Epoch 20/100\n",
      "8/8 [==============================] - 1s 94ms/step - loss: 0.0031 - accuracy: 1.0000\n",
      "Epoch 21/100\n",
      "8/8 [==============================] - 1s 97ms/step - loss: 0.0028 - accuracy: 1.0000\n",
      "Epoch 22/100\n",
      "8/8 [==============================] - 1s 94ms/step - loss: 0.0023 - accuracy: 1.0000\n",
      "Epoch 23/100\n",
      "8/8 [==============================] - 1s 92ms/step - loss: 0.0019 - accuracy: 1.0000\n",
      "Epoch 24/100\n",
      "8/8 [==============================] - 1s 93ms/step - loss: 0.0019 - accuracy: 1.0000\n",
      "Epoch 25/100\n",
      "8/8 [==============================] - 1s 94ms/step - loss: 0.0019 - accuracy: 1.0000\n",
      "Epoch 26/100\n",
      "8/8 [==============================] - 1s 94ms/step - loss: 0.0016 - accuracy: 1.0000\n",
      "Epoch 27/100\n",
      "8/8 [==============================] - 1s 94ms/step - loss: 0.0017 - accuracy: 1.0000\n",
      "Epoch 28/100\n",
      "8/8 [==============================] - 1s 94ms/step - loss: 0.0018 - accuracy: 1.0000\n",
      "Epoch 29/100\n",
      "8/8 [==============================] - 1s 94ms/step - loss: 0.0014 - accuracy: 1.0000\n",
      "Epoch 30/100\n",
      "8/8 [==============================] - 1s 93ms/step - loss: 0.0011 - accuracy: 1.0000\n",
      "Epoch 31/100\n",
      "8/8 [==============================] - 1s 94ms/step - loss: 0.0013 - accuracy: 1.0000\n",
      "Epoch 32/100\n",
      "8/8 [==============================] - 1s 94ms/step - loss: 0.0013 - accuracy: 1.0000\n",
      "Epoch 33/100\n",
      "8/8 [==============================] - 1s 94ms/step - loss: 0.0011 - accuracy: 1.0000\n",
      "Epoch 34/100\n",
      "8/8 [==============================] - 1s 94ms/step - loss: 0.0012 - accuracy: 1.0000\n",
      "Epoch 35/100\n",
      "8/8 [==============================] - 1s 94ms/step - loss: 9.9455e-04 - accuracy: 1.0000\n",
      "Epoch 36/100\n",
      "8/8 [==============================] - 1s 95ms/step - loss: 0.0010 - accuracy: 1.0000\n",
      "Epoch 37/100\n",
      "8/8 [==============================] - 1s 94ms/step - loss: 0.0011 - accuracy: 1.0000\n",
      "Epoch 38/100\n",
      "8/8 [==============================] - 1s 94ms/step - loss: 9.9782e-04 - accuracy: 1.0000\n",
      "Epoch 39/100\n",
      "8/8 [==============================] - 1s 95ms/step - loss: 0.0010 - accuracy: 1.0000\n",
      "Epoch 40/100\n",
      "8/8 [==============================] - 1s 94ms/step - loss: 0.0013 - accuracy: 1.0000\n",
      "Epoch 41/100\n",
      "8/8 [==============================] - 1s 94ms/step - loss: 7.8140e-04 - accuracy: 1.0000\n",
      "Epoch 42/100\n",
      "8/8 [==============================] - 1s 94ms/step - loss: 0.0011 - accuracy: 1.0000\n",
      "Epoch 43/100\n",
      "8/8 [==============================] - 1s 94ms/step - loss: 6.0768e-04 - accuracy: 1.0000\n",
      "Epoch 44/100\n",
      "8/8 [==============================] - 1s 94ms/step - loss: 6.2225e-04 - accuracy: 1.0000\n",
      "Epoch 45/100\n",
      "8/8 [==============================] - 1s 94ms/step - loss: 6.0317e-04 - accuracy: 1.0000\n",
      "Epoch 46/100\n",
      "8/8 [==============================] - 1s 94ms/step - loss: 5.7086e-04 - accuracy: 1.0000\n",
      "Epoch 47/100\n",
      "8/8 [==============================] - 1s 94ms/step - loss: 6.5434e-04 - accuracy: 1.0000\n",
      "Epoch 48/100\n",
      "8/8 [==============================] - 1s 94ms/step - loss: 5.3477e-04 - accuracy: 1.0000\n",
      "Epoch 49/100\n",
      "8/8 [==============================] - 1s 94ms/step - loss: 4.8697e-04 - accuracy: 1.0000\n",
      "Epoch 50/100\n",
      "8/8 [==============================] - 1s 94ms/step - loss: 5.7397e-04 - accuracy: 1.0000\n",
      "Epoch 51/100\n",
      "8/8 [==============================] - 1s 94ms/step - loss: 4.8826e-04 - accuracy: 1.0000\n",
      "Epoch 52/100\n",
      "8/8 [==============================] - 1s 94ms/step - loss: 5.2378e-04 - accuracy: 1.0000\n",
      "Epoch 53/100\n",
      "8/8 [==============================] - 1s 91ms/step - loss: 4.9182e-04 - accuracy: 1.0000\n",
      "Epoch 54/100\n",
      "8/8 [==============================] - 1s 90ms/step - loss: 4.4412e-04 - accuracy: 1.0000\n",
      "Epoch 55/100\n",
      "8/8 [==============================] - 1s 95ms/step - loss: 5.0316e-04 - accuracy: 1.0000\n",
      "Epoch 56/100\n",
      "8/8 [==============================] - 1s 97ms/step - loss: 5.2213e-04 - accuracy: 1.0000\n",
      "Epoch 57/100\n",
      "8/8 [==============================] - 1s 91ms/step - loss: 3.8922e-04 - accuracy: 1.0000\n",
      "Epoch 58/100\n",
      "8/8 [==============================] - 1s 95ms/step - loss: 4.5178e-04 - accuracy: 1.0000\n",
      "Epoch 59/100\n",
      "8/8 [==============================] - 1s 91ms/step - loss: 3.9182e-04 - accuracy: 1.0000\n",
      "Epoch 60/100\n",
      "8/8 [==============================] - 1s 91ms/step - loss: 4.1302e-04 - accuracy: 1.0000\n",
      "Epoch 61/100\n",
      "8/8 [==============================] - 1s 91ms/step - loss: 4.2105e-04 - accuracy: 1.0000\n",
      "Epoch 62/100\n",
      "8/8 [==============================] - 1s 91ms/step - loss: 3.6944e-04 - accuracy: 1.0000\n",
      "Epoch 63/100\n",
      "8/8 [==============================] - 1s 90ms/step - loss: 3.3903e-04 - accuracy: 1.0000\n",
      "Epoch 64/100\n",
      "8/8 [==============================] - 1s 91ms/step - loss: 3.4188e-04 - accuracy: 1.0000\n",
      "Epoch 65/100\n",
      "8/8 [==============================] - 1s 91ms/step - loss: 3.5869e-04 - accuracy: 1.0000\n",
      "Epoch 66/100\n",
      "8/8 [==============================] - 1s 90ms/step - loss: 3.5780e-04 - accuracy: 1.0000\n",
      "Epoch 67/100\n",
      "8/8 [==============================] - 1s 92ms/step - loss: 3.4707e-04 - accuracy: 1.0000\n",
      "Epoch 68/100\n",
      "8/8 [==============================] - 1s 95ms/step - loss: 2.6161e-04 - accuracy: 1.0000\n",
      "Epoch 69/100\n",
      "8/8 [==============================] - 1s 91ms/step - loss: 2.3678e-04 - accuracy: 1.0000\n",
      "Epoch 70/100\n",
      "8/8 [==============================] - 1s 91ms/step - loss: 3.8605e-04 - accuracy: 1.0000\n",
      "Epoch 71/100\n",
      "8/8 [==============================] - 1s 91ms/step - loss: 2.8558e-04 - accuracy: 1.0000\n",
      "Epoch 72/100\n",
      "8/8 [==============================] - 1s 91ms/step - loss: 2.7382e-04 - accuracy: 1.0000\n",
      "Epoch 73/100\n",
      "8/8 [==============================] - 1s 91ms/step - loss: 2.8855e-04 - accuracy: 1.0000\n",
      "Epoch 74/100\n",
      "8/8 [==============================] - 1s 91ms/step - loss: 2.9114e-04 - accuracy: 1.0000\n",
      "Epoch 75/100\n",
      "8/8 [==============================] - 1s 91ms/step - loss: 2.8687e-04 - accuracy: 1.0000\n",
      "Epoch 76/100\n",
      "8/8 [==============================] - 1s 91ms/step - loss: 2.3212e-04 - accuracy: 1.0000\n",
      "Epoch 77/100\n",
      "8/8 [==============================] - 1s 91ms/step - loss: 2.1744e-04 - accuracy: 1.0000\n",
      "Epoch 78/100\n",
      "8/8 [==============================] - 1s 91ms/step - loss: 2.5631e-04 - accuracy: 1.0000\n",
      "Epoch 79/100\n",
      "8/8 [==============================] - 1s 91ms/step - loss: 2.3527e-04 - accuracy: 1.0000\n",
      "Epoch 80/100\n",
      "8/8 [==============================] - 1s 91ms/step - loss: 2.3733e-04 - accuracy: 1.0000\n",
      "Epoch 81/100\n",
      "8/8 [==============================] - 1s 91ms/step - loss: 2.2716e-04 - accuracy: 1.0000\n",
      "Epoch 82/100\n"
     ]
    },
    {
     "name": "stdout",
     "output_type": "stream",
     "text": [
      "8/8 [==============================] - 1s 90ms/step - loss: 2.2331e-04 - accuracy: 1.0000\n",
      "Epoch 83/100\n",
      "8/8 [==============================] - 1s 89ms/step - loss: 2.5302e-04 - accuracy: 1.0000\n",
      "Epoch 84/100\n",
      "8/8 [==============================] - 1s 89ms/step - loss: 2.2457e-04 - accuracy: 1.0000\n",
      "Epoch 85/100\n",
      "8/8 [==============================] - 1s 89ms/step - loss: 2.1153e-04 - accuracy: 1.0000\n",
      "Epoch 86/100\n",
      "8/8 [==============================] - 1s 89ms/step - loss: 2.2762e-04 - accuracy: 1.0000\n",
      "Epoch 87/100\n",
      "8/8 [==============================] - 1s 90ms/step - loss: 1.7767e-04 - accuracy: 1.0000\n",
      "Epoch 88/100\n",
      "8/8 [==============================] - 1s 89ms/step - loss: 1.8027e-04 - accuracy: 1.0000\n",
      "Epoch 89/100\n",
      "8/8 [==============================] - 1s 89ms/step - loss: 2.1482e-04 - accuracy: 1.0000\n",
      "Epoch 90/100\n",
      "8/8 [==============================] - 1s 89ms/step - loss: 2.1870e-04 - accuracy: 1.0000\n",
      "Epoch 91/100\n",
      "8/8 [==============================] - 1s 90ms/step - loss: 1.9913e-04 - accuracy: 1.0000\n",
      "Epoch 92/100\n",
      "8/8 [==============================] - 1s 89ms/step - loss: 2.1207e-04 - accuracy: 1.0000\n",
      "Epoch 93/100\n",
      "8/8 [==============================] - 1s 89ms/step - loss: 1.8234e-04 - accuracy: 1.0000\n",
      "Epoch 94/100\n",
      "8/8 [==============================] - 1s 89ms/step - loss: 1.8475e-04 - accuracy: 1.0000\n",
      "Epoch 95/100\n",
      "8/8 [==============================] - 1s 89ms/step - loss: 1.8727e-04 - accuracy: 1.0000\n",
      "Epoch 96/100\n",
      "8/8 [==============================] - 1s 89ms/step - loss: 1.8449e-04 - accuracy: 1.0000\n",
      "Epoch 97/100\n",
      "8/8 [==============================] - 1s 89ms/step - loss: 1.5083e-04 - accuracy: 1.0000\n",
      "Epoch 98/100\n",
      "8/8 [==============================] - 1s 89ms/step - loss: 1.5621e-04 - accuracy: 1.0000\n",
      "Epoch 99/100\n",
      "8/8 [==============================] - 1s 89ms/step - loss: 1.5565e-04 - accuracy: 1.0000\n",
      "Epoch 100/100\n",
      "8/8 [==============================] - 1s 87ms/step - loss: 1.6442e-04 - accuracy: 1.0000\n"
     ]
    }
   ],
   "source": [
    "# model fit\n",
    "history = model.fit(\n",
    "                      features_train\n",
    "                    , target_train\n",
    "                    , epochs = num_epochs\n",
    "                    , batch_size = 128\n",
    "                    , verbose = 1\n",
    "                    )"
   ]
  },
  {
   "cell_type": "code",
   "execution_count": 242,
   "metadata": {},
   "outputs": [
    {
     "data": {
      "image/png": "[encoded data removed]",
      "text/plain": [
       "<Figure size 432x288 with 1 Axes>"
      ]
     },
     "metadata": {
      "needs_background": "light"
     },
     "output_type": "display_data"
    }
   ],
   "source": [
    "# custom fuction to plot history dictionary\n",
    "def plot_loss_history(h, title):\n",
    "    plt.plot(h.history[\"loss\"], label = \"Train loss\")\n",
    "    plt.plot(h.history[\"accuracy\"], label = \"Training accuracy\")\n",
    "    plt.xlabel(\"Epochs\")\n",
    "    plt.title(title)\n",
    "    plt.legend()\n",
    "    plt.show()\n",
    "\n",
    "plot_loss_history(history, \"Multiclass CNN classifer ({} epochs)\".format(num_epochs))"
   ]
  },
  {
   "cell_type": "code",
   "execution_count": 243,
   "metadata": {},
   "outputs": [
    {
     "name": "stdout",
     "output_type": "stream",
     "text": [
      "\n",
      "Confusion matrix\n",
      "[[51  0  0  0  0]\n",
      " [ 0 51  0  0  0]\n",
      " [ 0  0 20  0  0]\n",
      " [ 0  0  0 51  0]\n",
      " [ 0  0  0  0 52]]\n"
     ]
    }
   ],
   "source": [
    "# confusion matrix\n",
    "# using sklearn metrics\n",
    "from sklearn.metrics import confusion_matrix\n",
    "\n",
    "predictions = model.predict(features_test)\n",
    "#print(predictions)\n",
    "\n",
    "predicted_classes = np.argmax(model.predict(features_test), axis = -1)\n",
    "predicted_classes = predicted_classes.reshape(len(predicted_classes),1)\n",
    "#print(predicted_classes)\n",
    "\n",
    "#print(target)\n",
    "target = pd.DataFrame(target)\n",
    "#print(target)\n",
    "target_classes = target.iloc[test_index].to_numpy()\n",
    "#print(target_classes)\n",
    "# target_classes still one-hot encoded. Converting to single digit:\n",
    "target_classes = np.argmax(target_classes, axis = -1)\n",
    "#print(target_classes)\n",
    "\n",
    "#print(predicted_classes)\n",
    "con_mat_df = confusion_matrix(target_classes, predicted_classes, labels = [0, 1, 2, 3, 4])\n",
    "print(\"\\nConfusion matrix\")\n",
    "print(con_mat_df)"
   ]
  },
  {
   "cell_type": "code",
   "execution_count": 244,
   "metadata": {},
   "outputs": [
    {
     "data": {
      "image/png": "[encoded data removed]",
      "text/plain": [
       "<Figure size 576x576 with 2 Axes>"
      ]
     },
     "metadata": {
      "needs_background": "light"
     },
     "output_type": "display_data"
    }
   ],
   "source": [
    "import seaborn as sn\n",
    "\n",
    "names = [\"LW\", \"TR\", \"SW\", \"TS\", \"ZP\"]\n",
    "figure = plt.figure(figsize = (8, 8))\n",
    "sn.heatmap(con_mat_df, annot = True, cmap = plt.cm.Blues, xticklabels = names, yticklabels = names)\n",
    "plt.tight_layout()\n",
    "plt.ylabel(\"True label\")\n",
    "plt.xlabel(\"Predicted label\")\n",
    "plt.show()"
   ]
  },
  {
   "cell_type": "code",
   "execution_count": null,
   "metadata": {},
   "outputs": [],
   "source": []
  }
 ],
 "metadata": {
  "kernelspec": {
   "display_name": "Python 3",
   "language": "python",
   "name": "python3"
  },
  "language_info": {
   "codemirror_mode": {
    "name": "ipython",
    "version": 3
   },
   "file_extension": ".py",
   "mimetype": "text/x-python",
   "name": "python",
   "nbconvert_exporter": "python",
   "pygments_lexer": "ipython3",
   "version": "3.8.5"
  }
 },
 "nbformat": 4,
 "nbformat_minor": 4
}
